{
 "cells": [
  {
   "cell_type": "code",
   "execution_count": 1,
   "id": "f9c2506a",
   "metadata": {},
   "outputs": [],
   "source": [
    "import re\n",
    "\n",
    "import spacy\n",
    "\n",
    "from funer.document import Document\n",
    "from funer.annotators.dictionary_annotator import DictionaryAnnotator\n",
    "from funer.annotators.token_condition_annotator import (\n",
    "    TokensConditionAnnotator, generate_token_conditions_function)\n",
    "from funer.annotators.span_condition_annotator import SpanConditionAnnotator\n",
    "from funer.document import Document\n",
    "from funer.labeling_function_applier import LabelingFunctionApplier\n",
    "from funer.aggregators.majority_voting_aggregators import MajorityVotingAggregator\n",
    "from funer.utils import show_labels"
   ]
  },
  {
   "cell_type": "markdown",
   "id": "e750aaec",
   "metadata": {},
   "source": [
    "## Documentの作成"
   ]
  },
  {
   "cell_type": "markdown",
   "id": "f83bd91e",
   "metadata": {},
   "source": [
    "### 分かち書き済みのテキストを使う"
   ]
  },
  {
   "cell_type": "code",
   "execution_count": 2,
   "id": "f3bd5608",
   "metadata": {},
   "outputs": [],
   "source": [
    "labeled_document_1 = Document(\n",
    "    tokens=[\"東京\", \"出身\", \"の\", \"吉田\", \"は\", \"4\", \"月\", \"から\", \"JR\", \"で\", \"働く\", \"。\"],\n",
    "    gold_label=[\"B-LOC\", \"O\", \"O\", \"B-PER\", \"O\", \"B-DATE\", \"I-DATE\", \"O\", \"B-ORG\", \"O\", \"O\", \"O\"]\n",
    ")\n",
    "labeled_document_2 = Document(\n",
    "    tokens=[\"9\", \"月\", \"から\", \"東京\", \"大学\", \"に\", \"通う\"],\n",
    "    gold_label=[\"B-DATE\", \"I-DATE\", \"O\", \"B-ORG\", \"I-ORG\", \"O\", \"O\"],\n",
    ")\n",
    "nolabeled_document = Document(\n",
    "    tokens=[\"8\", \"月\", \"に\", \"東京\", \"の\", \"大学\", \"に\", \"通う\"],\n",
    ")\n",
    "documents = [labeled_document_1, labeled_document_2, nolabeled_document]"
   ]
  },
  {
   "cell_type": "markdown",
   "id": "3e6d1a2c",
   "metadata": {},
   "source": [
    "### Option: spaCyを使う"
   ]
  },
  {
   "cell_type": "code",
   "execution_count": 3,
   "id": "e5a20fa9",
   "metadata": {},
   "outputs": [],
   "source": [
    "nlp = spacy.load('ja_ginza')"
   ]
  },
  {
   "cell_type": "code",
   "execution_count": 4,
   "id": "fca7c18a",
   "metadata": {},
   "outputs": [
    {
     "name": "stdout",
     "output_type": "stream",
     "text": [
      "['東京', '出身', 'の', '吉田', 'は', '4', '月', 'から', 'JR', 'で', '働く', '。']\n"
     ]
    }
   ],
   "source": [
    "document = Document.from_spacy_doc(nlp(\"東京出身の吉田は4月からJRで働く。\"))\n",
    "print(document.tokens)"
   ]
  },
  {
   "cell_type": "markdown",
   "id": "7521f076",
   "metadata": {},
   "source": [
    "## ラベリング関数"
   ]
  },
  {
   "cell_type": "markdown",
   "id": "aee09054",
   "metadata": {},
   "source": [
    "### ラベリング関数の定義"
   ]
  },
  {
   "cell_type": "code",
   "execution_count": 5,
   "id": "a5e0d169",
   "metadata": {},
   "outputs": [],
   "source": [
    "# f1: トークン単位でのラベリング関数\n",
    "def detect_name(tokens):\n",
    "    for i in range(len(tokens) - 1):\n",
    "        if tokens[i:i + 1] == [\"吉田\"]:\n",
    "            yield i, i + 1\n",
    "f1 = TokensConditionAnnotator(\n",
    "    name=\"person_f\",\n",
    "    f=detect_name,\n",
    "    label=\"PER\"\n",
    ")\n",
    "\n",
    "# f2: generate_token_conditions_functionを用いた、トークン単位でのラベリング関数\n",
    "f2 = TokensConditionAnnotator(\n",
    "    name=\"month_f\",\n",
    "    f=generate_token_conditions_function([\n",
    "        lambda token_1: re.search(r\"[1-9]|1[0-2]\", token_1) is not None,\n",
    "        lambda token_2: token_2 == \"月\",\n",
    "    ]),\n",
    "    label=\"DATE\"\n",
    ")\n",
    "\n",
    "# f3: 文字単位でのラベリング関数\n",
    "def span_condition_function(text: str):\n",
    "    for m in re.finditer(r\"JR\", text):\n",
    "        yield m.start(), m.end()\n",
    "f3 = SpanConditionAnnotator(\n",
    "    name=\"company_f\",\n",
    "    f=span_condition_function,\n",
    "    label=\"ORG\"\n",
    ")\n",
    "\n",
    "\n",
    "# f4: 辞書を用いたラベリング関数\n",
    "#   : (注意) 東京大学[LOC]の東京をORGとして間違って抽出する例\n",
    "loc_dictionary = [\"東京\", \"神奈川\", \"大阪\"]\n",
    "f4 = DictionaryAnnotator(\n",
    "    name=\"pref_f\",\n",
    "    words=loc_dictionary,\n",
    "    label=\"LOC\"\n",
    ")"
   ]
  },
  {
   "cell_type": "markdown",
   "id": "1b7d4022",
   "metadata": {},
   "source": [
    "### ラベリング関数の適用と統合"
   ]
  },
  {
   "cell_type": "code",
   "execution_count": 6,
   "id": "e2c22c2e",
   "metadata": {},
   "outputs": [
    {
     "name": "stdout",
     "output_type": "stream",
     "text": [
      "tokens       東京    出身   の   吉田    は   4        月       から   JR      で   働く   。\n",
      "=============================================================================================\n",
      "gold_label   B-LOC   O      O    B-PER   O    B-DATE   I-DATE   O      B-ORG   O    O      O \n",
      "---------------------------------------------------------------------------------------------\n",
      "person_f     O       O      O    B-PER   O    O        O        O      O       O    O      O \n",
      "month_f      O       O      O    O       O    B-DATE   I-DATE   O      O       O    O      O \n",
      "company_f    O       O      O    O       O    O        O        O      B-ORG   O    O      O \n",
      "pref_f       B-LOC   O      O    O       O    O        O        O      O       O    O      O \n",
      "---------------------------------------------------------------------------------------------\n",
      "aggregate    B-LOC   O      O    B-PER   O    B-DATE   I-DATE   O      B-ORG   O    O      O \n",
      "\n",
      "tokens       9        月       から   東京    大学    に   通う\n",
      "===============================================================\n",
      "gold_label   B-DATE   I-DATE   O      B-ORG   I-ORG   O    O   \n",
      "---------------------------------------------------------------\n",
      "month_f      B-DATE   I-DATE   O      O       O       O    O   \n",
      "pref_f       O        O        O      B-LOC   O       O    O   \n",
      "---------------------------------------------------------------\n",
      "aggregate    B-DATE   I-DATE   O      B-LOC   O       O    O   \n",
      "\n",
      "tokens       8        月       に   東京    の   大学   に   通う\n",
      "=================================================================\n",
      "gold_label   -        -        -    -       -    -      -    -   \n",
      "-----------------------------------------------------------------\n",
      "month_f      B-DATE   I-DATE   O    O       O    O      O    O   \n",
      "pref_f       O        O        O    B-LOC   O    O      O    O   \n",
      "-----------------------------------------------------------------\n",
      "aggregate    B-DATE   I-DATE   O    B-LOC   O    O      O    O   \n"
     ]
    }
   ],
   "source": [
    "# ラベリング関数の適用\n",
    "lf_applier = LabelingFunctionApplier(lfs=[f1, f2, f3, f4])\n",
    "documents = lf_applier.apply(documents)\n",
    "\n",
    "# ラベリング結果の統合\n",
    "aggregator = MajorityVotingAggregator()\n",
    "documents = aggregator.aggregate(documents)\n",
    "\n",
    "# 結果の出力\n",
    "print(show_labels(documents[0]))\n",
    "print()\n",
    "print(show_labels(documents[1]))\n",
    "print()\n",
    "print(show_labels(documents[2]))"
   ]
  },
  {
   "cell_type": "code",
   "execution_count": 7,
   "id": "77dc9f72",
   "metadata": {},
   "outputs": [
    {
     "name": "stdout",
     "output_type": "stream",
     "text": [
      "f_name    | pos | neg | hit\n",
      "==========+=====+=====+====\n",
      "person_f  | 1   | 0   | 1  \n",
      "month_f   | 2   | 0   | 2  \n",
      "company_f | 1   | 0   | 1  \n",
      "pref_f    | 1   | 1   | 2  \n"
     ]
    }
   ],
   "source": [
    "print(lf_applier.show_stats())"
   ]
  },
  {
   "cell_type": "code",
   "execution_count": 8,
   "id": "63e52941",
   "metadata": {},
   "outputs": [
    {
     "name": "stdout",
     "output_type": "stream",
     "text": [
      "[EntitySpan(start_offset=0, end_offset=2, label='DATE'), EntitySpan(start_offset=3, end_offset=5, label='LOC')]\n"
     ]
    }
   ],
   "source": [
    "print(documents[2].export_span_labels())"
   ]
  },
  {
   "cell_type": "code",
   "execution_count": 9,
   "id": "32e426b5",
   "metadata": {},
   "outputs": [
    {
     "name": "stdout",
     "output_type": "stream",
     "text": [
      "['B-DATE', 'I-DATE', 'O', 'B-LOC', 'O', 'O', 'O', 'O']\n"
     ]
    }
   ],
   "source": [
    "print(documents[2].export_bio_label())"
   ]
  }
 ],
 "metadata": {
  "kernelspec": {
   "display_name": "Python 3 (ipykernel)",
   "language": "python",
   "name": "python3"
  },
  "language_info": {
   "codemirror_mode": {
    "name": "ipython",
    "version": 3
   },
   "file_extension": ".py",
   "mimetype": "text/x-python",
   "name": "python",
   "nbconvert_exporter": "python",
   "pygments_lexer": "ipython3",
   "version": "3.9.1"
  }
 },
 "nbformat": 4,
 "nbformat_minor": 5
}
